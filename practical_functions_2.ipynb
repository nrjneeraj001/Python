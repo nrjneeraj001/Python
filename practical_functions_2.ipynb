{
 "cells": [
  {
   "cell_type": "code",
   "execution_count": 1,
   "id": "ef532585-bd01-42a4-93d9-9b9a036d3d19",
   "metadata": {},
   "outputs": [],
   "source": [
    "def addition(*numbers):\n",
    "    return sum(numbers)"
   ]
  },
  {
   "cell_type": "code",
   "execution_count": 7,
   "id": "409bc36a-2147-462b-b0af-5a1d137df271",
   "metadata": {},
   "outputs": [
    {
     "data": {
      "text/plain": [
       "14"
      ]
     },
     "execution_count": 7,
     "metadata": {},
     "output_type": "execute_result"
    }
   ],
   "source": [
    "addition(2,3,4,5)"
   ]
  },
  {
   "cell_type": "code",
   "execution_count": 9,
   "id": "295f0f04-d761-436c-aa98-926b204de955",
   "metadata": {},
   "outputs": [],
   "source": [
    "#keyword variable legth arguments\n",
    "\n",
    "#can pass many values while calling the function but in key value pair \n",
    "#need to pass the parameter with  double stars(**) while forming the function \n",
    " \n",
    "def information(**info):\n",
    "    for key , value in info.items():\n",
    "        print(f'{key}:{value}')"
   ]
  },
  {
   "cell_type": "code",
   "execution_count": 11,
   "id": "6ff62474-ae3d-4c3d-855a-275557cab71c",
   "metadata": {},
   "outputs": [
    {
     "name": "stdout",
     "output_type": "stream",
     "text": [
      "name:snigdha\n",
      "city:jaipur\n"
     ]
    }
   ],
   "source": [
    "information (name='snigdha',city='jaipur')"
   ]
  },
  {
   "cell_type": "code",
   "execution_count": 15,
   "id": "9dbd5cc2-73b7-4780-a22b-d024b853c910",
   "metadata": {},
   "outputs": [],
   "source": [
    "def information(**info):\n",
    "    for key , value in info.items():\n",
    "        print(f'{key}:{value}')"
   ]
  },
  {
   "cell_type": "code",
   "execution_count": 17,
   "id": "f2c57015-18fd-4243-b082-2362c428c977",
   "metadata": {},
   "outputs": [
    {
     "name": "stdout",
     "output_type": "stream",
     "text": [
      "domain:big data\n",
      "company:Regex\n"
     ]
    }
   ],
   "source": [
    "information(domain='big data', company='Regex')"
   ]
  },
  {
   "cell_type": "code",
   "execution_count": null,
   "id": "c79f93a6-5d1d-4bef-b635-f101e51fdb0c",
   "metadata": {},
   "outputs": [],
   "source": [
    "#type of function\n",
    "#built in functions\n",
    "#user defined functions\n",
    "\n",
    "\n",
    "#built functions\n",
    "#these are the functions that are predefined by the python and can be used anytime \\\n",
    "#print()   len()\n",
    "\n",
    "#user defined functions\n",
    "#these are the functions that we to define by using def keyword \n",
    "#we from these functions to reuse them anytime\n"
   ]
  },
  {
   "cell_type": "code",
   "execution_count": 21,
   "id": "5f902133-f631-463a-a6fd-02c653a60b9e",
   "metadata": {},
   "outputs": [
    {
     "name": "stdout",
     "output_type": "stream",
     "text": [
      "5 10\n"
     ]
    }
   ],
   "source": [
    "#scope of variables \n",
    "#local variables\n",
    "#global variables\n",
    "\n",
    "#local variables are those that are defined inside the function \n",
    "#local variables can be accessed only inside a function \n",
    "#Example \n",
    "#def Hello():\n",
    "    #x=5\n",
    "\n",
    "#there x is a global variable\n",
    "\n",
    "\n",
    "#Global variables are those that are defined outside the function \n",
    "#global vriables can be accessed both inside and outside a function \n",
    "#Example\n",
    "#y=10\n",
    "\n",
    "#def Hello():\n",
    "    #x=5\n",
    "#Here y is a global variable\n",
    "\n",
    "y=10\n",
    "def my_function():\n",
    "    x=5\n",
    "    print(x,y)\n",
    "\n",
    "my_function()"
   ]
  },
  {
   "cell_type": "code",
   "execution_count": 23,
   "id": "bbfd4ba5-b875-4107-b71e-ba2a3f47abe1",
   "metadata": {},
   "outputs": [
    {
     "name": "stdout",
     "output_type": "stream",
     "text": [
      "10\n"
     ]
    }
   ],
   "source": [
    "print(y)"
   ]
  },
  {
   "cell_type": "code",
   "execution_count": 25,
   "id": "95530c3f-edcc-4a3e-90b0-efa288825010",
   "metadata": {},
   "outputs": [
    {
     "ename": "NameError",
     "evalue": "name 'ptint' is not defined",
     "output_type": "error",
     "traceback": [
      "\u001b[1;31m---------------------------------------------------------------------------\u001b[0m",
      "\u001b[1;31mNameError\u001b[0m                                 Traceback (most recent call last)",
      "Cell \u001b[1;32mIn[25], line 1\u001b[0m\n\u001b[1;32m----> 1\u001b[0m ptint(x)\n",
      "\u001b[1;31mNameError\u001b[0m: name 'ptint' is not defined"
     ]
    }
   ],
   "source": [
    "ptint(x)"
   ]
  },
  {
   "cell_type": "code",
   "execution_count": 27,
   "id": "d093598e-d5da-484f-99f7-e160a759e7d5",
   "metadata": {},
   "outputs": [],
   "source": [
    "y=10\n",
    "def myfunction2():\n",
    "    y=9\n",
    "    print(y)"
   ]
  },
  {
   "cell_type": "code",
   "execution_count": 29,
   "id": "b362de9b-580f-4ce1-a9f0-afaae35a4c93",
   "metadata": {},
   "outputs": [
    {
     "name": "stdout",
     "output_type": "stream",
     "text": [
      "9\n"
     ]
    }
   ],
   "source": [
    "myfunction2()"
   ]
  },
  {
   "cell_type": "code",
   "execution_count": 31,
   "id": "30076d8a-b4b5-4a2b-9893-b26a3c60bd7a",
   "metadata": {},
   "outputs": [
    {
     "name": "stdout",
     "output_type": "stream",
     "text": [
      "10\n"
     ]
    }
   ],
   "source": [
    "print(y)"
   ]
  },
  {
   "cell_type": "code",
   "execution_count": 33,
   "id": "656a7b3c-a838-4d04-ae34-a13b5df3f8e7",
   "metadata": {},
   "outputs": [],
   "source": [
    "#conversion \n",
    "#global keyword\n",
    "#converts the variable from local to global \n",
    "\n",
    "\n",
    "def my_function3():\n",
    "    global y\n",
    "    y=10\n",
    "    print(y)"
   ]
  },
  {
   "cell_type": "code",
   "execution_count": 35,
   "id": "9be3e954-3317-4613-9ab5-ae57230c4155",
   "metadata": {},
   "outputs": [
    {
     "name": "stdout",
     "output_type": "stream",
     "text": [
      "10\n"
     ]
    }
   ],
   "source": [
    "my_function3()"
   ]
  },
  {
   "cell_type": "code",
   "execution_count": 37,
   "id": "d5ad153a-4249-4e56-a116-e1b68f28e69f",
   "metadata": {},
   "outputs": [
    {
     "name": "stdout",
     "output_type": "stream",
     "text": [
      "10\n"
     ]
    }
   ],
   "source": [
    "print(y)"
   ]
  },
  {
   "cell_type": "code",
   "execution_count": null,
   "id": "13878228-8cd1-45ba-ba61-f86d897fda8c",
   "metadata": {},
   "outputs": [],
   "source": []
  }
 ],
 "metadata": {
  "kernelspec": {
   "display_name": "Python 3 (ipykernel)",
   "language": "python",
   "name": "python3"
  },
  "language_info": {
   "codemirror_mode": {
    "name": "ipython",
    "version": 3
   },
   "file_extension": ".py",
   "mimetype": "text/x-python",
   "name": "python",
   "nbconvert_exporter": "python",
   "pygments_lexer": "ipython3",
   "version": "3.12.4"
  }
 },
 "nbformat": 4,
 "nbformat_minor": 5
}
