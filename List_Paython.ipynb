{
  "nbformat": 4,
  "nbformat_minor": 0,
  "metadata": {
    "colab": {
      "provenance": []
    },
    "kernelspec": {
      "name": "python3",
      "display_name": "Python 3"
    },
    "language_info": {
      "name": "python"
    }
  },
  "cells": [
    {
      "cell_type": "code",
      "execution_count": 3,
      "metadata": {
        "colab": {
          "base_uri": "https://localhost:8080/"
        },
        "id": "zyAgXNE5dbc3",
        "outputId": "09286782-babe-49c4-e5b5-c71004563120"
      },
      "outputs": [
        {
          "output_type": "stream",
          "name": "stdout",
          "text": [
            "45\n",
            "['sam', 45, 'mohit', 98.56]\n",
            "['sam', 45, 'mohit', 98.56]\n",
            "[45, 'mohit']\n",
            "['sam', 45, 'mohit']\n"
          ]
        }
      ],
      "source": [
        "a = ['sam' , 45 , 'mohit' , 98.56]\n",
        "print(a[1])\n",
        "#slicing [start_value:last_value+1]\n",
        "print(a[0:])\n",
        "print(a[:])\n",
        "print(a[1:3])\n",
        "print(a[:3])"
      ]
    },
    {
      "cell_type": "code",
      "source": [
        "a = ['sam' , 45 , 'mohit' , 98.56]\n",
        "print(a)\n",
        "print(a[1])\n",
        "a[1] = 60\n",
        "print(a)"
      ],
      "metadata": {
        "colab": {
          "base_uri": "https://localhost:8080/"
        },
        "id": "m5UhAnMmedS8",
        "outputId": "ea3e800f-910d-45cf-c945-bd7213965259"
      },
      "execution_count": 5,
      "outputs": [
        {
          "output_type": "stream",
          "name": "stdout",
          "text": [
            "['sam', 45, 'mohit', 98.56]\n",
            "45\n",
            "['sam', 60, 'mohit', 98.56]\n"
          ]
        }
      ]
    },
    {
      "cell_type": "code",
      "source": [
        "a = ['sam' , 45 , 'mohit' , 98.56]\n",
        "for i in a:\n",
        "  print(i)"
      ],
      "metadata": {
        "colab": {
          "base_uri": "https://localhost:8080/"
        },
        "id": "i-vNSdvIfYz2",
        "outputId": "413430f1-e232-4da7-854c-dba41314bfff"
      },
      "execution_count": 7,
      "outputs": [
        {
          "output_type": "stream",
          "name": "stdout",
          "text": [
            "sam\n",
            "45\n",
            "mohit\n",
            "98.56\n"
          ]
        }
      ]
    },
    {
      "cell_type": "code",
      "source": [
        "a = ['sam' , 45 , 'mohit' , 98.56]\n",
        "for i in range (len(a)):\n",
        "  print(a[i])"
      ],
      "metadata": {
        "colab": {
          "base_uri": "https://localhost:8080/"
        },
        "id": "W5Rc_Yf4f2uy",
        "outputId": "580e136f-2bac-4019-ef56-58860c2e58a9"
      },
      "execution_count": 11,
      "outputs": [
        {
          "output_type": "stream",
          "name": "stdout",
          "text": [
            "sam\n",
            "45\n",
            "mohit\n",
            "98.56\n"
          ]
        }
      ]
    },
    {
      "cell_type": "code",
      "source": [
        "a = [10,20,30,40,50]\n",
        "b = max(a)\n",
        "print(\"max number is =\" , b)"
      ],
      "metadata": {
        "colab": {
          "base_uri": "https://localhost:8080/"
        },
        "id": "jPr1snEygaus",
        "outputId": "bb03d99f-f1f1-4903-e893-d1699123d14e"
      },
      "execution_count": 13,
      "outputs": [
        {
          "output_type": "stream",
          "name": "stdout",
          "text": [
            "max number is = 50\n"
          ]
        }
      ]
    },
    {
      "cell_type": "code",
      "source": [
        "a = [\"ram\" , \"shyam\"]\n",
        "b = max(a)\n",
        "print(b)"
      ],
      "metadata": {
        "colab": {
          "base_uri": "https://localhost:8080/"
        },
        "id": "dlQ9Cnjlhcvq",
        "outputId": "dcff78cb-92ea-47ce-8af9-fc65b4a7e633"
      },
      "execution_count": 14,
      "outputs": [
        {
          "output_type": "stream",
          "name": "stdout",
          "text": [
            "shyam\n"
          ]
        }
      ]
    },
    {
      "cell_type": "code",
      "source": [
        "a = [10,20,30,40,50]\n",
        "b = min(a)\n",
        "print(\"minimum number is =\" , b)"
      ],
      "metadata": {
        "colab": {
          "base_uri": "https://localhost:8080/"
        },
        "id": "i9-hi1cshoFK",
        "outputId": "f822ec30-04a8-4661-8a27-02ce26201328"
      },
      "execution_count": 16,
      "outputs": [
        {
          "output_type": "stream",
          "name": "stdout",
          "text": [
            "minimum number is = 10\n"
          ]
        }
      ]
    },
    {
      "cell_type": "code",
      "source": [
        "a = [\"ram\" , \"shyam\"]\n",
        "b = min(a)\n",
        "print(b)"
      ],
      "metadata": {
        "colab": {
          "base_uri": "https://localhost:8080/"
        },
        "id": "ncCZppkGiEbG",
        "outputId": "710649e4-8413-4e1a-cfcd-838587567eeb"
      },
      "execution_count": 18,
      "outputs": [
        {
          "output_type": "stream",
          "name": "stdout",
          "text": [
            "ram\n"
          ]
        }
      ]
    },
    {
      "cell_type": "code",
      "source": [
        "a = ['sam' , 98 , 'mohit' , 78.43]\n",
        "print(a)\n",
        "a.append(\"preeti\")\n",
        "print(a)"
      ],
      "metadata": {
        "colab": {
          "base_uri": "https://localhost:8080/"
        },
        "id": "q4q34KJBiJoO",
        "outputId": "32613ae3-3cdc-4fd2-d853-ab689097f2cc"
      },
      "execution_count": 20,
      "outputs": [
        {
          "output_type": "stream",
          "name": "stdout",
          "text": [
            "['sam', 98, 'mohit', 78.43]\n",
            "['sam', 98, 'mohit', 78.43, 'preeti']\n"
          ]
        }
      ]
    },
    {
      "cell_type": "code",
      "source": [
        "a = []\n",
        "for i in range(4):\n",
        "    x = input(\"enter your items:\")\n",
        "    a.append(x)\n",
        "print(a)"
      ],
      "metadata": {
        "colab": {
          "base_uri": "https://localhost:8080/"
        },
        "id": "6lxEUshqi3JC",
        "outputId": "30b40afd-e19a-4c3c-a490-8a40253066cd"
      },
      "execution_count": 25,
      "outputs": [
        {
          "output_type": "stream",
          "name": "stdout",
          "text": [
            "enter your items:sam\n",
            "enter your items:neeraj\n",
            "enter your items:dayer\n",
            "enter your items:yogesh\n",
            "['sam', 'neeraj', 'dayer', 'yogesh']\n"
          ]
        }
      ]
    },
    {
      "cell_type": "code",
      "source": [
        "a = ['neeraj', 89, 'dayer', 89, 'yogesh', 89]\n",
        "x = a.count(89)\n",
        "print(\"total frequencey is =\" , x)"
      ],
      "metadata": {
        "colab": {
          "base_uri": "https://localhost:8080/"
        },
        "id": "y2N_yZJAksht",
        "outputId": "a5938122-92c3-4c88-a762-17da2351e556"
      },
      "execution_count": 26,
      "outputs": [
        {
          "output_type": "stream",
          "name": "stdout",
          "text": [
            "total frequencey is = 3\n"
          ]
        }
      ]
    },
    {
      "cell_type": "code",
      "source": [
        "a = []\n",
        "for i in range(4):\n",
        "   x = input(\"enter item: \")\n",
        "   a.append(x)\n",
        "print(a)\n",
        "y = input(\"enter your item whose frequencey you want:\")\n",
        "f = a.count(y)\n",
        "print(\"total frequencey is=\", f)"
      ],
      "metadata": {
        "colab": {
          "base_uri": "https://localhost:8080/"
        },
        "id": "LVcO3Xz1mAIA",
        "outputId": "305fa820-437b-4968-abc7-24cf517d8aa4"
      },
      "execution_count": 30,
      "outputs": [
        {
          "output_type": "stream",
          "name": "stdout",
          "text": [
            "enter item: d\n",
            "enter item: t\n",
            "enter item: h\n",
            "enter item: \n",
            "['d', 't', 'h', '']\n",
            "enter your item whose frequencey you want:'\n",
            "total frequencey is= 0\n"
          ]
        }
      ]
    },
    {
      "cell_type": "code",
      "source": [
        "a = ['sam', 90, 'rahul', 'kriti', 'piyush', 'kriti']\n",
        "x = a.index('piyush')\n",
        "print(\"index of piyush = \", x)"
      ],
      "metadata": {
        "colab": {
          "base_uri": "https://localhost:8080/"
        },
        "id": "F55Uk3kSm9dQ",
        "outputId": "d4c3e652-e192-4d72-881f-cd74c66f3e33"
      },
      "execution_count": 34,
      "outputs": [
        {
          "output_type": "stream",
          "name": "stdout",
          "text": [
            "index of piyush =  4\n"
          ]
        }
      ]
    },
    {
      "cell_type": "code",
      "source": [
        "a = [5, 'neeraj', 'dayer']\n",
        "print(a)\n",
        "a.insert(1 , \"yogesh\")\n",
        "print(a)"
      ],
      "metadata": {
        "colab": {
          "base_uri": "https://localhost:8080/"
        },
        "id": "B1Pu1-F8n_uF",
        "outputId": "c35c6635-d433-4bc8-b4a5-f9b772d86bbf"
      },
      "execution_count": 36,
      "outputs": [
        {
          "output_type": "stream",
          "name": "stdout",
          "text": [
            "[5, 'neeraj', 'dayer']\n",
            "[5, 'yogesh', 'neeraj', 'dayer']\n"
          ]
        }
      ]
    },
    {
      "cell_type": "code",
      "source": [
        "a = [5, 'neeraj', 'yogesh', 'kriti', 'dayer']\n",
        "print(a)\n",
        "a.remove('kriti')\n",
        "print(a)"
      ],
      "metadata": {
        "colab": {
          "base_uri": "https://localhost:8080/"
        },
        "id": "7GhVa-vgpAe3",
        "outputId": "64cb5511-e21f-467b-a183-8c5342e041d2"
      },
      "execution_count": 38,
      "outputs": [
        {
          "output_type": "stream",
          "name": "stdout",
          "text": [
            "[5, 'neeraj', 'yogesh', 'kriti', 'dayer']\n",
            "[5, 'neeraj', 'yogesh', 'dayer']\n"
          ]
        }
      ]
    },
    {
      "cell_type": "code",
      "source": [
        "a = [5, 'sam', 'kriti']\n",
        "a.reverse()\n",
        "print(a)"
      ],
      "metadata": {
        "colab": {
          "base_uri": "https://localhost:8080/"
        },
        "id": "47_QmYGRpSat",
        "outputId": "859357af-3971-4741-ee2e-4a7b545dbcda"
      },
      "execution_count": 40,
      "outputs": [
        {
          "output_type": "stream",
          "name": "stdout",
          "text": [
            "['kriti', 'sam', 5]\n"
          ]
        }
      ]
    },
    {
      "cell_type": "code",
      "source": [
        "a = [5, 'sam', 'kriti']\n",
        "a.pop()\n",
        "print(a)\n",
        "a.pop()\n",
        "print(a)\n",
        "a.pop()\n",
        "print(a)"
      ],
      "metadata": {
        "colab": {
          "base_uri": "https://localhost:8080/"
        },
        "id": "cXUdJubqp_ke",
        "outputId": "1268d3e8-68bd-4790-8bd8-4aff503199b2"
      },
      "execution_count": 43,
      "outputs": [
        {
          "output_type": "stream",
          "name": "stdout",
          "text": [
            "[5, 'sam']\n",
            "[5]\n",
            "[]\n"
          ]
        }
      ]
    }
  ]
}