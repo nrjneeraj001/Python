{
  "nbformat": 4,
  "nbformat_minor": 0,
  "metadata": {
    "colab": {
      "provenance": []
    },
    "kernelspec": {
      "name": "python3",
      "display_name": "Python 3"
    },
    "language_info": {
      "name": "python"
    }
  },
  "cells": [
    {
      "cell_type": "code",
      "execution_count": 3,
      "metadata": {
        "colab": {
          "base_uri": "https://localhost:8080/"
        },
        "id": "4S30iu3cHr2J",
        "outputId": "901f800b-2d58-4e39-b892-6ec9c729e131"
      },
      "outputs": [
        {
          "output_type": "stream",
          "name": "stdout",
          "text": [
            "2022\n"
          ]
        }
      ],
      "source": [
        "# Dictionary >> A dictionary is a collection which is unordered ,\n",
        "# changable and unindexed. In python , dictionaries are written with curly brackets{}\n",
        "# and they have keys and values means dictionary contains two things. 1> key 2> Value\n",
        "# {keys:value}\n",
        "\n",
        "\n",
        "# Example\n",
        "# a = {\"brand\" : \"kia\" , \"model\" : \"celtos\" , \"year\" : 2022}\n",
        "# print(a)\n",
        "\n",
        "# Accessing items\n",
        "# We can access the items of a dictionary by refercing to its key name inside square brackets.\n",
        "a = {\"brand\" : \"kia\" , \"model\" : \"celtos\" , \"year\" : 2022}\n",
        "b = a[\"year\"]\n",
        "print(b)"
      ]
    },
    {
      "cell_type": "code",
      "source": [
        "#Loop through a dictionary\n",
        "a = {\"brand\" : \"kia\" , \"model\" : \"celtos\" , \"year\" : 2022}\n",
        "for i in a :        #Extract all keys\n",
        "    print(i)\n",
        "\n",
        "for i in a.keys():    #Extract all keys\n",
        "  print(i)\n",
        "\n",
        "for i in a :     #Extract all values\n",
        "  print(a[i])\n",
        "\n",
        "for i in a.values():   #Extract all values\n",
        "  print(i)\n",
        "\n",
        "for x,y in a.items():   #Extract keys and Values\n",
        "  print(x,y)"
      ],
      "metadata": {
        "colab": {
          "base_uri": "https://localhost:8080/"
        },
        "id": "Yfj0Km3GIS7E",
        "outputId": "c60925c2-1346-4717-8c4f-aafe324b6c02"
      },
      "execution_count": 5,
      "outputs": [
        {
          "output_type": "stream",
          "name": "stdout",
          "text": [
            "brand\n",
            "model\n",
            "year\n",
            "brand\n",
            "model\n",
            "year\n",
            "kia\n",
            "celtos\n",
            "2022\n",
            "kia\n",
            "celtos\n",
            "2022\n",
            "brand kia\n",
            "model celtos\n",
            "year 2022\n"
          ]
        }
      ]
    },
    {
      "cell_type": "code",
      "source": [
        "#Change values in dictionary >> We can change the value of a specific items by referring to its key name.\n",
        "a = {\"brand\" : \"kia\" , \"model\" : \"celtos\" , \"year\" : 2022}\n",
        "a['year'] = 2023\n",
        "print(a)"
      ],
      "metadata": {
        "colab": {
          "base_uri": "https://localhost:8080/"
        },
        "id": "_i3g9g8CJ4uy",
        "outputId": "557a0c12-951b-478a-f579-ae0fcbb7739d"
      },
      "execution_count": 7,
      "outputs": [
        {
          "output_type": "stream",
          "name": "stdout",
          "text": [
            "{'brand': 'kia', 'model': 'celtos', 'year': 2023}\n"
          ]
        }
      ]
    },
    {
      "cell_type": "code",
      "source": [
        "#Checking whether a key exists in the dictionary\n",
        "a = {\"brand\" : \"kia\" , \"model\" : \"celtos\" , \"year\" : 2022}\n",
        "if \"model\" in a :\n",
        "  print(\"yes , the element is present...\")\n",
        "else :\n",
        "  print(\"no , the element is not present...\")"
      ],
      "metadata": {
        "colab": {
          "base_uri": "https://localhost:8080/"
        },
        "id": "zmLWEWrbKYUz",
        "outputId": "b6ce4f3f-4b08-450e-b642-a03f684d3668"
      },
      "execution_count": 9,
      "outputs": [
        {
          "output_type": "stream",
          "name": "stdout",
          "text": [
            "yes , the element is present...\n"
          ]
        }
      ]
    },
    {
      "cell_type": "code",
      "source": [
        "#Adding as new element in dictionary\n",
        "a = {\"brand\" : \"kia\" , \"model\" : \"celtos\" , \"year\" : 2022}\n",
        "a['km_driven'] = 5000\n",
        "print(a)"
      ],
      "metadata": {
        "colab": {
          "base_uri": "https://localhost:8080/"
        },
        "id": "647AVlnTLL4o",
        "outputId": "4d2cf726-3531-41f4-dd2b-a5fe646a0014"
      },
      "execution_count": 11,
      "outputs": [
        {
          "output_type": "stream",
          "name": "stdout",
          "text": [
            "{'brand': 'kia', 'model': 'celtos', 'year': 2022, 'km_driven': 5000}\n"
          ]
        }
      ]
    },
    {
      "cell_type": "code",
      "source": [
        "#Pre-defined function in dictionary\n",
        " # 1>> len()\n",
        "\n",
        "a = {\"brand\" : \"kia\" , \"model\" : \"celtos\" , \"year\" : 2022}\n",
        "x = len(a)\n",
        "print(\"total length = \", x)\n",
        "\n",
        " # 2>> Removing items\n",
        "   # (a) pop()\n",
        "a = {\"brand\" : \"kia\" , \"model\" : \"celtos\" , \"year\" : 2022}\n",
        "print(a)\n",
        "a.pop(\"model\")\n",
        "print(a)\n",
        "\n",
        "   # (b) popitem() >>this function removes the last element of the dictionary.\n",
        "a = {\"brand\" : \"kia\" , \"model\" : \"celtos\" , \"year\" : 2022}\n",
        "print(a)\n",
        "a.popitem()\n",
        "print(a)\n",
        "a.popitem()\n",
        "print(a)\n",
        "\n",
        "   # (c) del\n",
        "a = {\"brand\" : \"kia\" , \"model\" : \"celtos\" , \"year\" : 2022}\n",
        "del a[\"model\"]\n",
        "      #del a      # to delete whole dictionary\n",
        "print(a)\n",
        "\n",
        "   # (d) clear()\n",
        "a = {\"brand\" : \"kia\" , \"model\" : \"celtos\" , \"year\" : 2022}\n",
        "a.clear()\n",
        "print(a)\n",
        "\n",
        "\n",
        " # 3 >> copy()\n",
        "a = {\"brand\" : \"kia\" , \"model\" : \"celtos\" , \"year\" : 2022}\n",
        "a.copy()\n",
        "print(a)\n",
        "\n",
        "\n",
        " # 4 >> setdefault()\n",
        "a = {\"brand\" : \"kia\" , \"model\" : \"celtos\" , \"year\" : 2022}\n",
        "#x = a.setdefault(\"colour\" , \"white\")    #method >> 1\n",
        "a['colour'] = 'white'              #method >> 2\n",
        "print(a)\n",
        "\n",
        "\n",
        " # 5 >> update()\n",
        "a = a = {\"brand\" : \"kia\" , \"model\" : \"celtos\" , \"year\" : 2022}\n",
        "a.update({\"colour\" : \"white\"})\n",
        "print(a)\n",
        "\n"
      ],
      "metadata": {
        "colab": {
          "base_uri": "https://localhost:8080/"
        },
        "id": "wG9v2AqDLmCP",
        "outputId": "10714f89-7bde-471a-a151-7bf8d9ab1443"
      },
      "execution_count": 23,
      "outputs": [
        {
          "output_type": "stream",
          "name": "stdout",
          "text": [
            "total length =  3\n",
            "{'brand': 'kia', 'model': 'celtos', 'year': 2022}\n",
            "{'brand': 'kia', 'year': 2022}\n",
            "{'brand': 'kia', 'model': 'celtos', 'year': 2022}\n",
            "{'brand': 'kia', 'model': 'celtos'}\n",
            "{'brand': 'kia'}\n",
            "{'brand': 'kia', 'year': 2022}\n",
            "{}\n",
            "{'brand': 'kia', 'model': 'celtos', 'year': 2022}\n",
            "{'brand': 'kia', 'model': 'celtos', 'year': 2022, 'colour': 'white'}\n",
            "{'brand': 'kia', 'model': 'celtos', 'year': 2022, 'colour': 'white'}\n"
          ]
        }
      ]
    },
    {
      "cell_type": "code",
      "source": [],
      "metadata": {
        "id": "WAHIXd2KQ1gx"
      },
      "execution_count": null,
      "outputs": []
    }
  ]
}