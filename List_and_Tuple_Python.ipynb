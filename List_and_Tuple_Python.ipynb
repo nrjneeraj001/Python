{
  "nbformat": 4,
  "nbformat_minor": 0,
  "metadata": {
    "colab": {
      "provenance": []
    },
    "kernelspec": {
      "name": "python3",
      "display_name": "Python 3"
    },
    "language_info": {
      "name": "python"
    }
  },
  "cells": [
    {
      "cell_type": "code",
      "execution_count": 2,
      "metadata": {
        "colab": {
          "base_uri": "https://localhost:8080/"
        },
        "id": "vWJx7qoonucP",
        "outputId": "6f451dce-b6b3-4aae-dbc5-19d149d8e354"
      },
      "outputs": [
        {
          "output_type": "stream",
          "name": "stdout",
          "text": [
            "enter size:3\n",
            "enter number2\n",
            "enter number5\n",
            "enter number7\n",
            "[2, 5, 7]\n",
            "sum of list elements =  14\n"
          ]
        }
      ],
      "source": [
        "# Question - program to find sum of elements in a list ?\n",
        "a = []\n",
        "size = int(input(\"enter size:\"))\n",
        "for  i in range(size):\n",
        "    val = int(input(\"enter number\"))\n",
        "    a.append(val)\n",
        "print(a)\n",
        "sum = 0\n",
        "for i in range(size):\n",
        "    sum = sum + a[i]\n",
        "print(\"sum of list elements = \", sum)"
      ]
    },
    {
      "cell_type": "code",
      "source": [
        "# Question - Write a program who count total number of odd and total number of even in the list ?\n",
        "a = []\n",
        "size = int(input(\"enter number:\"))\n",
        "for i in range(size):\n",
        "  val = int(input(\"enter number:\"))\n",
        "  a.append(val)\n",
        "print(a)\n",
        "odd = 0\n",
        "even = 0\n",
        "for i in range(size):\n",
        "    if(a[i]%2 == 0):\n",
        "         even = even + 1\n",
        "    else:\n",
        "        odd = odd + 1\n",
        "print(\"total even =\", even , \"total odd = \", odd)"
      ],
      "metadata": {
        "colab": {
          "base_uri": "https://localhost:8080/"
        },
        "id": "Ntrfp6wAoWTF",
        "outputId": "16954884-0273-402e-b8c2-ae986a0b6f75"
      },
      "execution_count": 11,
      "outputs": [
        {
          "output_type": "stream",
          "name": "stdout",
          "text": [
            "enter number:3\n",
            "enter number:5\n",
            "enter number:6\n",
            "enter number:8\n",
            "[5, 6, 8]\n",
            "total even = 2 total odd =  1\n"
          ]
        }
      ]
    },
    {
      "cell_type": "code",
      "source": [
        "# Question - Write a program who find maximum number in the list ?\n",
        "a = []\n",
        "size = int(input(\"enter size:\"))\n",
        "for i in range(size):\n",
        "  val = int(input(\"enter number:\"))\n",
        "  a.append(val)\n",
        "print(a)\n",
        "max = a[0]\n",
        "for i in range(size):\n",
        "   if(a[i]>max):\n",
        "    max = a[i]\n",
        "print(\"maximum number is = \", max)"
      ],
      "metadata": {
        "colab": {
          "base_uri": "https://localhost:8080/"
        },
        "id": "ws4LGKLzrnVj",
        "outputId": "1bb8e4a3-014c-49f4-a00f-f99b184cc08e"
      },
      "execution_count": 13,
      "outputs": [
        {
          "output_type": "stream",
          "name": "stdout",
          "text": [
            "enter size:2\n",
            "enter number:34\n",
            "enter number:45\n",
            "[34, 45]\n",
            "maximum number is =  45\n"
          ]
        }
      ]
    },
    {
      "cell_type": "code",
      "source": [
        "# Question - Write a program who find minimum number in the list ?\n",
        "a = []\n",
        "size = int(input(\"enter size:\"))\n",
        "for i in range(size):\n",
        "  val = int(input(\"enter number:\"))\n",
        "  a.append(val)\n",
        "print(a)\n",
        "min = a[0]\n",
        "for i in range(size):\n",
        "   if(a[i]<min):\n",
        "    min = a[i]\n",
        "print(\"minimum number is = \", min)"
      ],
      "metadata": {
        "colab": {
          "base_uri": "https://localhost:8080/"
        },
        "id": "3fUtlFw8tLFK",
        "outputId": "1a89732d-5c9b-4e4b-b20e-6c6a1c9a21f1"
      },
      "execution_count": 16,
      "outputs": [
        {
          "output_type": "stream",
          "name": "stdout",
          "text": [
            "enter size:2\n",
            "enter number:34\n",
            "enter number:45\n",
            "[34, 45]\n",
            "minimum number is =  34\n"
          ]
        }
      ]
    },
    {
      "cell_type": "code",
      "source": [
        "# Tuple>> A tuple is a collection of item which is order and unchangable . Tuple identification is = (). Indexing start from 0 and length start from 1.\n",
        "#a = (34 , 'sam' , 89.60, 'mohit')\n",
        "\n",
        "#Question - Convert this >>\n",
        "#(34 , 'sam' , 89.60, 'mohit') ==> (34 , 'sam' , 'rubi', 'mohit')\n",
        "\n",
        "a = (34 , 'sam' , 89.60, 'mohit')\n",
        "#  a[2] = \"rubi\"\n",
        "#  print(a)\n",
        "b = list(a)\n",
        "print(b)\n",
        "b[2] = \"rubi\"\n",
        "print(b)\n",
        "c = tuple(b)\n",
        "print(c)"
      ],
      "metadata": {
        "colab": {
          "base_uri": "https://localhost:8080/"
        },
        "id": "HuZWiQV6uLze",
        "outputId": "cb7c370d-621d-437e-9591-ac9f6c5376fa"
      },
      "execution_count": 20,
      "outputs": [
        {
          "output_type": "stream",
          "name": "stdout",
          "text": [
            "[34, 'sam', 89.6, 'mohit']\n",
            "[34, 'sam', 'rubi', 'mohit']\n",
            "(34, 'sam', 'rubi', 'mohit')\n"
          ]
        }
      ]
    },
    {
      "cell_type": "code",
      "source": [
        "# Creating tuple  from Existing Sequences\n",
        "a = tuple('world')\n",
        "print(a)\n",
        "\n",
        "\n",
        "# Traversing Tuple\n",
        "# a = (1,2,3,4)\n",
        "\n",
        "a = (1, \"sam\", 67.90, \"mohit\")\n",
        "\n",
        "# method - 1\n",
        "for i in a :\n",
        "  print(i)\n",
        "  #print(i, end = \"\")\n"
      ],
      "metadata": {
        "colab": {
          "base_uri": "https://localhost:8080/"
        },
        "id": "Lr0CQ-78v2Bj",
        "outputId": "72fe2e3e-08ee-4616-81f9-1b4457fa2846"
      },
      "execution_count": 24,
      "outputs": [
        {
          "output_type": "stream",
          "name": "stdout",
          "text": [
            "('w', 'o', 'r', 'l', 'd')\n",
            "1\n",
            "sam\n",
            "67.9\n",
            "mohit\n"
          ]
        }
      ]
    },
    {
      "cell_type": "code",
      "source": [
        "# Creating tuple  from Existing Sequences\n",
        "a = tuple('world')\n",
        "print(a)\n",
        "\n",
        "\n",
        "# Traversing Tuple\n",
        "# a = (1,2,3,4)\n",
        "\n",
        "a = (1, \"sam\", 67.90, \"mohit\")\n",
        "\n",
        "# method - 2\n",
        "for i in range(len(a)):\n",
        "  print(a[i])"
      ],
      "metadata": {
        "colab": {
          "base_uri": "https://localhost:8080/"
        },
        "id": "a18krbgnxkWR",
        "outputId": "4768c0ff-8a1c-4cb2-e3e7-54f5e45fe486"
      },
      "execution_count": 27,
      "outputs": [
        {
          "output_type": "stream",
          "name": "stdout",
          "text": [
            "('w', 'o', 'r', 'l', 'd')\n",
            "1\n",
            "sam\n",
            "67.9\n",
            "mohit\n"
          ]
        }
      ]
    },
    {
      "cell_type": "code",
      "source": [
        "#  joinig tuple\n",
        "a = (1,2,3,4)\n",
        "b = (5,6,7)\n",
        "c = a + b\n",
        "print(c)"
      ],
      "metadata": {
        "colab": {
          "base_uri": "https://localhost:8080/"
        },
        "id": "xtTqQsrxyA7W",
        "outputId": "6b39e87c-6265-4e57-f2f4-3d29867b8c39"
      },
      "execution_count": 29,
      "outputs": [
        {
          "output_type": "stream",
          "name": "stdout",
          "text": [
            "(1, 2, 3, 4, 5, 6, 7)\n"
          ]
        }
      ]
    },
    {
      "cell_type": "code",
      "source": [
        "# Repeating or Replicating tuple\n",
        "a = (1,2,3)\n",
        "b = a*3\n",
        "print(b)"
      ],
      "metadata": {
        "colab": {
          "base_uri": "https://localhost:8080/"
        },
        "id": "bYKjLW0GyYxn",
        "outputId": "d4fe53b2-8f65-48d1-fa84-af8ca9ae5984"
      },
      "execution_count": 31,
      "outputs": [
        {
          "output_type": "stream",
          "name": "stdout",
          "text": [
            "(1, 2, 3, 1, 2, 3, 1, 2, 3)\n"
          ]
        }
      ]
    },
    {
      "cell_type": "code",
      "source": [
        "# Slicing in tuple\n",
        "a = (10,20,30,40,50,60,70)\n",
        "b = a[3:5]\n",
        "print(b)\n",
        "\n",
        "b = a[0:5:2]\n",
        "print(b)"
      ],
      "metadata": {
        "colab": {
          "base_uri": "https://localhost:8080/"
        },
        "id": "zLmmtdA6ypV9",
        "outputId": "c2b415e5-60a7-4551-d62f-eeeac1af2f98"
      },
      "execution_count": 32,
      "outputs": [
        {
          "output_type": "stream",
          "name": "stdout",
          "text": [
            "(40, 50)\n",
            "(10, 30, 50)\n"
          ]
        }
      ]
    }
  ]
}